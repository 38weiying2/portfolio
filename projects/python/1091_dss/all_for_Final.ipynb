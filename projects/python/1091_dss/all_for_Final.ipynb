{
 "cells": [
  {
   "cell_type": "markdown",
   "metadata": {
    "id": "JERecD2GjSBj"
   },
   "source": [
    "# ***Group 7: Alcoholic Beverages Recommendation***\n",
    "\n",
    "---\n",
    "\n"
   ]
  },
  {
   "cell_type": "markdown",
   "metadata": {
    "id": "VWe9fmVKrsRP"
   },
   "source": [
    "# step1. Data pre-processing"
   ]
  },
  {
   "cell_type": "markdown",
   "metadata": {
    "id": "kYDKyF2CToGQ"
   },
   "source": [
    "### 1.1 Read data(資料讀取)\n",
    "if use google colabaratory to execute, don't need to change anything, just upload file\n",
    "\n",
    "if not, data not in same file folder, need to change to your direction in your computer\n",
    "\n",
    "jupyter notebook is a good choice"
   ]
  },
  {
   "cell_type": "code",
   "execution_count": null,
   "metadata": {
    "id": "TIzQ2DT8MxuQ"
   },
   "outputs": [],
   "source": [
    "import pandas as pd\n",
    "import os\n",
    "import numpy as np\n",
    "\n",
    "\n",
    "#change to your direction\n",
    "dir=\"\"\n"
   ]
  },
  {
   "cell_type": "code",
   "execution_count": null,
   "metadata": {
    "id": "EqDcP58jqnME"
   },
   "outputs": [],
   "source": [
    "filename='wine_data_2.xlsx' #讀取檔案\n",
    "data=pd.read_excel(dir+filename)\n",
    "#data"
   ]
  },
  {
   "cell_type": "code",
   "execution_count": null,
   "metadata": {
    "colab": {
     "base_uri": "https://localhost:8080/",
     "height": 417
    },
    "executionInfo": {
     "elapsed": 3184,
     "status": "ok",
     "timestamp": 1610460929996,
     "user": {
      "displayName": "38weiying",
      "photoUrl": "https://lh3.googleusercontent.com/a-/AOh14GixAm0W1lZ2chajSYWF0kMWAkoNdn204mqMKrT5B3I=s64",
      "userId": "18194026143522285241"
     },
     "user_tz": -480
    },
    "id": "8jc6nxpioXYI",
    "outputId": "831c1ca8-b05c-4e59-94aa-7b304465de83"
   },
   "outputs": [
    {
     "data": {
      "text/html": [
       "<div>\n",
       "<style scoped>\n",
       "    .dataframe tbody tr th:only-of-type {\n",
       "        vertical-align: middle;\n",
       "    }\n",
       "\n",
       "    .dataframe tbody tr th {\n",
       "        vertical-align: top;\n",
       "    }\n",
       "\n",
       "    .dataframe thead th {\n",
       "        text-align: right;\n",
       "    }\n",
       "</style>\n",
       "<table border=\"1\" class=\"dataframe\">\n",
       "  <thead>\n",
       "    <tr style=\"text-align: right;\">\n",
       "      <th></th>\n",
       "      <th>country</th>\n",
       "      <th>province</th>\n",
       "      <th>taster_name</th>\n",
       "      <th>variety</th>\n",
       "    </tr>\n",
       "  </thead>\n",
       "  <tbody>\n",
       "    <tr>\n",
       "      <th>0</th>\n",
       "      <td>32</td>\n",
       "      <td>384</td>\n",
       "      <td>16</td>\n",
       "      <td>16</td>\n",
       "    </tr>\n",
       "    <tr>\n",
       "      <th>1</th>\n",
       "      <td>43</td>\n",
       "      <td>250</td>\n",
       "      <td>15</td>\n",
       "      <td>14</td>\n",
       "    </tr>\n",
       "    <tr>\n",
       "      <th>2</th>\n",
       "      <td>43</td>\n",
       "      <td>207</td>\n",
       "      <td>1</td>\n",
       "      <td>20</td>\n",
       "    </tr>\n",
       "    <tr>\n",
       "      <th>3</th>\n",
       "      <td>43</td>\n",
       "      <td>250</td>\n",
       "      <td>15</td>\n",
       "      <td>15</td>\n",
       "    </tr>\n",
       "    <tr>\n",
       "      <th>4</th>\n",
       "      <td>16</td>\n",
       "      <td>12</td>\n",
       "      <td>16</td>\n",
       "      <td>8</td>\n",
       "    </tr>\n",
       "    <tr>\n",
       "      <th>...</th>\n",
       "      <td>...</td>\n",
       "      <td>...</td>\n",
       "      <td>...</td>\n",
       "      <td>...</td>\n",
       "    </tr>\n",
       "    <tr>\n",
       "      <th>11417</th>\n",
       "      <td>16</td>\n",
       "      <td>38</td>\n",
       "      <td>16</td>\n",
       "      <td>1</td>\n",
       "    </tr>\n",
       "    <tr>\n",
       "      <th>11418</th>\n",
       "      <td>16</td>\n",
       "      <td>38</td>\n",
       "      <td>16</td>\n",
       "      <td>1</td>\n",
       "    </tr>\n",
       "    <tr>\n",
       "      <th>11419</th>\n",
       "      <td>16</td>\n",
       "      <td>38</td>\n",
       "      <td>16</td>\n",
       "      <td>1</td>\n",
       "    </tr>\n",
       "    <tr>\n",
       "      <th>11420</th>\n",
       "      <td>16</td>\n",
       "      <td>76</td>\n",
       "      <td>16</td>\n",
       "      <td>6</td>\n",
       "    </tr>\n",
       "    <tr>\n",
       "      <th>11421</th>\n",
       "      <td>38</td>\n",
       "      <td>245</td>\n",
       "      <td>13</td>\n",
       "      <td>27</td>\n",
       "    </tr>\n",
       "  </tbody>\n",
       "</table>\n",
       "<p>11422 rows × 4 columns</p>\n",
       "</div>"
      ],
      "text/plain": [
       "       country  province  taster_name  variety\n",
       "0           32       384           16       16\n",
       "1           43       250           15       14\n",
       "2           43       207            1       20\n",
       "3           43       250           15       15\n",
       "4           16        12           16        8\n",
       "...        ...       ...          ...      ...\n",
       "11417       16        38           16        1\n",
       "11418       16        38           16        1\n",
       "11419       16        38           16        1\n",
       "11420       16        76           16        6\n",
       "11421       38       245           13       27\n",
       "\n",
       "[11422 rows x 4 columns]"
      ]
     },
     "execution_count": 3,
     "metadata": {
      "tags": []
     },
     "output_type": "execute_result"
    }
   ],
   "source": [
    "X = data.drop(columns=[\"description\",\"points\",\"price\",\"title\",\"Unnamed: 0\"])#去除我不要的資料\n",
    "X"
   ]
  },
  {
   "cell_type": "markdown",
   "metadata": {
    "id": "qLw9QX2QfAa6"
   },
   "source": [
    "non-repetitive data in sheet\"編碼表\""
   ]
  },
  {
   "cell_type": "code",
   "execution_count": null,
   "metadata": {
    "id": "Idf8rhUUrk_A"
   },
   "outputs": [],
   "source": [
    "X2 = pd.read_excel(dir+filename, '編碼表')\n",
    "\n",
    "\n",
    "country2=X2['產地國家']\n",
    "province2=X2['省']\n",
    "taster_name2=X2['品酒師']\n",
    "variety2=X2['酒種']\n"
   ]
  },
  {
   "cell_type": "markdown",
   "metadata": {
    "id": "H4eq_84QoZZl"
   },
   "source": [
    "### 1.2 user input data"
   ]
  },
  {
   "cell_type": "code",
   "execution_count": null,
   "metadata": {
    "colab": {
     "base_uri": "https://localhost:8080/"
    },
    "executionInfo": {
     "elapsed": 26619,
     "status": "ok",
     "timestamp": 1610460953453,
     "user": {
      "displayName": "38weiying",
      "photoUrl": "https://lh3.googleusercontent.com/a-/AOh14GixAm0W1lZ2chajSYWF0kMWAkoNdn204mqMKrT5B3I=s64",
      "userId": "18194026143522285241"
     },
     "user_tz": -480
    },
    "id": "JONdsV38oin_",
    "outputId": "31f6ea56-67c0-421e-8e3f-bbcd1983a4ad"
   },
   "outputs": [
    {
     "name": "stdout",
     "output_type": "stream",
     "text": [
      "1. Argentina\n",
      "3. Australia\n",
      "4. Austria\n",
      "6. Brazil\n",
      "7. Bulgaria\n",
      "8. Canada\n",
      "9. Chile\n",
      "11. Croatia\n",
      "12. Cyprus\n",
      "13. Czech Republic\n",
      "15. England\n",
      "16. France\n",
      "17. Georgia\n",
      "18. Germany\n",
      "19. Greece\n",
      "20. Hungary\n",
      "21. India\n",
      "22. Israel\n",
      "23. Italy\n",
      "24. Lebanon\n",
      "25. Luxembourg\n",
      "27. Mexico\n",
      "28. Moldova\n",
      "29. Morocco\n",
      "30. New Zealand\n",
      "31. Peru\n",
      "32. Portugal\n",
      "33. Romania\n",
      "36. Slovenia\n",
      "37. South Africa\n",
      "38. Spain\n",
      "40. Turkey\n",
      "42. Uruguay\n",
      "43. US\n",
      "可輸入的數字:  [1, 3, 4, 6, 7, 8, 9, 11, 12, 13, 15, 16, 17, 18, 19, 20, 21, 22, 23, 24, 25, 27, 28, 29, 30, 31, 32, 33, 36, 37, 38, 40, 42, 43]\n",
      "請輸入country：1\n",
      "251. Neusiedlersee\n",
      "388. Valle de Guadalupe\n",
      "可輸入的數字:  [251, 388]\n",
      "請輸入province(number)：251\n",
      "13. Michael Schachner\n",
      "可輸入的數字:  [13]\n",
      "請輸入taster_name(number)：13\n",
      "3. Aglianico\n",
      "4. Aidani\n",
      "6. Albana\n",
      "10. Aleatico\n",
      "11. Alfrocheiro\n",
      "13. Alicante Bouschet\n",
      "14. Aligot\n",
      "15. alkaras\n",
      "18. Alvarelho\n",
      "23. Apple\n",
      "25. Aragons\n",
      "26. Argaman\n",
      "28. Arneis\n",
      "29. Asprinio\n",
      "可輸入的數字:  [3, 4, 6, 10, 11, 13, 14, 15, 18, 23, 25, 26, 28, 29]\n",
      "請輸入variety(number)：4\n",
      "[81, 82, 84, 85, 87, 88]\n",
      "目前篩選過後酒之最高分數:  88\n",
      "所想要的酒>=幾分?:82\n",
      "       Unnamed: 0  ...  variety\n",
      "3941         3942  ...        4\n",
      "3946         3947  ...        4\n",
      "6804         6805  ...        4\n",
      "7479         7480  ...        4\n",
      "8489         8490  ...        4\n",
      "8998         8999  ...        4\n",
      "11034       11035  ...        4\n",
      "\n",
      "[7 rows x 9 columns]\n",
      "目前篩選過後酒的最高價格:  8\n",
      "所想要的酒>=多少錢?:3\n"
     ]
    }
   ],
   "source": [
    "data = pd.read_excel(dir+'wine_data_2.xlsx')\n",
    "\n",
    "#************************ 1. user input country **************************\n",
    "available_number = list(set(data['country'].tolist()))\n",
    "available_number.sort()\n",
    "for i in range(0,len(available_number),1):\n",
    "  if type(country2[available_number[i]-1])==float:\n",
    "    break\n",
    "  else:\n",
    "    print(str(available_number[i])+\". \"+country2[available_number[i]-1])\n",
    "\n",
    "print('可輸入的數字: ',available_number)\n",
    "inputcountry = input('請輸入country：')\n",
    "\n",
    "#filter country with user's choise\n",
    "data = data.loc[data['country']==int(inputcountry)]\n",
    "\n",
    "\n",
    "#************************ 2. user input province **************************\n",
    "available_number = list(set(data['province'].tolist()))\n",
    "available_number.sort()\n",
    "\n",
    "for i in range(0,len(available_number),1):\n",
    "  if type(province2[available_number[i]-1])==float:\n",
    "    break\n",
    "  else:\n",
    "    print(str(available_number[i])+\". \"+province2[available_number[i]-1])\n",
    "\n",
    "#filter province with user's choise\n",
    "print('可輸入的數字: ',available_number)\n",
    "inputprovince = input('請輸入province(number)：')\n",
    "data = data.loc[data['province']==int(inputprovince)]\n",
    "\n",
    "#************************ 3. user input taster_name **************************\n",
    "available_number = list(set(data['taster_name'].tolist()))\n",
    "available_number.sort()\n",
    "\n",
    "for i in range(0,len(available_number),1):\n",
    "  if type(taster_name2[available_number[i]-1])==float:\n",
    "    break\n",
    "  else:\n",
    "    print(str(available_number[i])+\". \"+taster_name2[available_number[i]-1])\n",
    "\n",
    "#filter taster_name with user's choise\n",
    "print('可輸入的數字: ',available_number)\n",
    "inputtaster_name = input('請輸入taster_name(number)：')\n",
    "data = data.loc[data['taster_name']==int(inputtaster_name)]\n",
    "\n",
    "#************************ 4. user input variety **************************\n",
    "available_number = list(set(data['variety'].tolist()))\n",
    "available_number.sort()\n",
    "\n",
    "for i in range(0,len(available_number),1):\n",
    "  if type(variety2[available_number[i]-1])==float:\n",
    "    break\n",
    "  else:\n",
    "    print(str(available_number[i])+\". \"+variety2[available_number[i]-1])\n",
    "\n",
    "#filter variety with user's choise\n",
    "print('可輸入的數字: ',available_number)\n",
    "inputvariety = input('請輸入variety(number)：')\n",
    "data = data.loc[data['variety']==int(inputvariety)]\n",
    "\n",
    "#************************ 5. user input points **************************\n",
    "available_number = list(set(data['points'].tolist()))\n",
    "sorted_number = sorted(available_number)\n",
    "if available_number==[]:\n",
    "  print('篩選無結果 請重新選擇')\n",
    "else:\n",
    "  print(sorted_number)\n",
    "  print('目前篩選過後酒之最高分數: ', sorted_number[len(sorted_number)-1])\n",
    "  inputPoint = input('所想要的酒>=幾分?:')\n",
    "  data = data.loc[data['points']>=int(inputPoint)]\n",
    "\n",
    "print(data)\n",
    "\n",
    "#************************ 6. user input price **************************\n",
    "available_number = list(set(data['price'].tolist()))\n",
    "if available_number==[]:\n",
    "  print('篩選無結果 請重新選擇')\n",
    "else:\n",
    "  sorted_number = sorted(available_number)\n",
    "  print('目前篩選過後酒的最高價格: ',sorted_number[0])\n",
    "  inputPrice = input('所想要的酒>=多少錢?:')\n",
    "  data = data.loc[data['price']>=int(inputPrice)]\n",
    "\n",
    "data_baseOn_user_input = data\n",
    "Input_number=[int(inputcountry),int(inputprovince),int(inputtaster_name),int(inputvariety)]\n",
    "Input_number_2=[int(inputcountry),int(inputprovince),int(inputtaster_name),int(inputvariety),int(inputPoint),int(inputPrice)]\n",
    "Input_value=[country2[int(inputcountry)],province2[int(inputprovince)],taster_name2[int(inputtaster_name)],variety2[int(inputvariety)],int(inputPoint),int(inputPrice)]\n"
   ]
  },
  {
   "cell_type": "code",
   "execution_count": null,
   "metadata": {
    "colab": {
     "base_uri": "https://localhost:8080/",
     "height": 953
    },
    "executionInfo": {
     "elapsed": 26623,
     "status": "ok",
     "timestamp": 1610460953463,
     "user": {
      "displayName": "38weiying",
      "photoUrl": "https://lh3.googleusercontent.com/a-/AOh14GixAm0W1lZ2chajSYWF0kMWAkoNdn204mqMKrT5B3I=s64",
      "userId": "18194026143522285241"
     },
     "user_tz": -480
    },
    "id": "FGE2ZQCN3Awz",
    "outputId": "9c0cdb16-b79e-413c-fc5d-b0327ff28220"
   },
   "outputs": [
    {
     "data": {
      "text/html": [
       "<div>\n",
       "<style scoped>\n",
       "    .dataframe tbody tr th:only-of-type {\n",
       "        vertical-align: middle;\n",
       "    }\n",
       "\n",
       "    .dataframe tbody tr th {\n",
       "        vertical-align: top;\n",
       "    }\n",
       "\n",
       "    .dataframe thead th {\n",
       "        text-align: right;\n",
       "    }\n",
       "</style>\n",
       "<table border=\"1\" class=\"dataframe\">\n",
       "  <thead>\n",
       "    <tr style=\"text-align: right;\">\n",
       "      <th></th>\n",
       "      <th>Unnamed: 0</th>\n",
       "      <th>country</th>\n",
       "      <th>description</th>\n",
       "      <th>points</th>\n",
       "      <th>price</th>\n",
       "      <th>province</th>\n",
       "      <th>taster_name</th>\n",
       "      <th>title</th>\n",
       "      <th>variety</th>\n",
       "    </tr>\n",
       "  </thead>\n",
       "  <tbody>\n",
       "    <tr>\n",
       "      <th>3941</th>\n",
       "      <td>3942</td>\n",
       "      <td>1</td>\n",
       "      <td>Berry and lemon-peel aromas come with a note o...</td>\n",
       "      <td>82</td>\n",
       "      <td>11</td>\n",
       "      <td>251</td>\n",
       "      <td>13</td>\n",
       "      <td>Casa Montes 2014 Ampakama Cabernet Sauvignon (...</td>\n",
       "      <td>4</td>\n",
       "    </tr>\n",
       "    <tr>\n",
       "      <th>3946</th>\n",
       "      <td>3947</td>\n",
       "      <td>1</td>\n",
       "      <td>Earthy plum and raspberry aromas are probing a...</td>\n",
       "      <td>82</td>\n",
       "      <td>11</td>\n",
       "      <td>251</td>\n",
       "      <td>13</td>\n",
       "      <td>Quara 2015 Estate Cabernet Sauvignon (Cafayate)</td>\n",
       "      <td>4</td>\n",
       "    </tr>\n",
       "    <tr>\n",
       "      <th>6804</th>\n",
       "      <td>6805</td>\n",
       "      <td>1</td>\n",
       "      <td>Bubble gum on the nose makes you wonder about ...</td>\n",
       "      <td>84</td>\n",
       "      <td>13</td>\n",
       "      <td>251</td>\n",
       "      <td>13</td>\n",
       "      <td>Michel Torino 2007 Cuma Organic Cabernet Sauvi...</td>\n",
       "      <td>4</td>\n",
       "    </tr>\n",
       "    <tr>\n",
       "      <th>7479</th>\n",
       "      <td>7480</td>\n",
       "      <td>1</td>\n",
       "      <td>Dry and medium in body, this Cab from a warm v...</td>\n",
       "      <td>88</td>\n",
       "      <td>19</td>\n",
       "      <td>251</td>\n",
       "      <td>13</td>\n",
       "      <td>Familia Schroeder 2009 Saurus Select Cabernet ...</td>\n",
       "      <td>4</td>\n",
       "    </tr>\n",
       "    <tr>\n",
       "      <th>8489</th>\n",
       "      <td>8490</td>\n",
       "      <td>1</td>\n",
       "      <td>Incredibly candied and sweet smelling, much li...</td>\n",
       "      <td>82</td>\n",
       "      <td>8</td>\n",
       "      <td>251</td>\n",
       "      <td>13</td>\n",
       "      <td>Santa Florentina 2009 Cabernet Sauvignon (Fama...</td>\n",
       "      <td>4</td>\n",
       "    </tr>\n",
       "    <tr>\n",
       "      <th>8998</th>\n",
       "      <td>8999</td>\n",
       "      <td>1</td>\n",
       "      <td>Simple and easy to like, with cassis and cherr...</td>\n",
       "      <td>87</td>\n",
       "      <td>20</td>\n",
       "      <td>251</td>\n",
       "      <td>13</td>\n",
       "      <td>Graffigna 2006 Grand Reserve Cabernet Sauvigno...</td>\n",
       "      <td>4</td>\n",
       "    </tr>\n",
       "    <tr>\n",
       "      <th>11034</th>\n",
       "      <td>11035</td>\n",
       "      <td>1</td>\n",
       "      <td>Opens with red fruit aromas that are like a mi...</td>\n",
       "      <td>85</td>\n",
       "      <td>12</td>\n",
       "      <td>251</td>\n",
       "      <td>13</td>\n",
       "      <td>Familia Schroeder 2007 Saurus Patagonia Cabern...</td>\n",
       "      <td>4</td>\n",
       "    </tr>\n",
       "  </tbody>\n",
       "</table>\n",
       "</div>"
      ],
      "text/plain": [
       "       Unnamed: 0  ...  variety\n",
       "3941         3942  ...        4\n",
       "3946         3947  ...        4\n",
       "6804         6805  ...        4\n",
       "7479         7480  ...        4\n",
       "8489         8490  ...        4\n",
       "8998         8999  ...        4\n",
       "11034       11035  ...        4\n",
       "\n",
       "[7 rows x 9 columns]"
      ]
     },
     "execution_count": 6,
     "metadata": {
      "tags": []
     },
     "output_type": "execute_result"
    }
   ],
   "source": [
    "data_baseOn_user_input"
   ]
  },
  {
   "cell_type": "markdown",
   "metadata": {
    "id": "tr4gyBhQr3oa"
   },
   "source": [
    "\n",
    "# Step2. Cluster Analysis: K-Meams\n",
    "(已量化的資料做Kmeans分群-elbow method)"
   ]
  },
  {
   "cell_type": "markdown",
   "metadata": {
    "id": "MlwPVZACWwoS"
   },
   "source": [
    "#### 2.1 find out the most fitable k to devide into k groups\n",
    "\n",
    "from dataset that user input's variable(4 variable:country、provice、taster_name、variaty)"
   ]
  },
  {
   "cell_type": "code",
   "execution_count": null,
   "metadata": {
    "id": "p8J-enLh34n3"
   },
   "outputs": [],
   "source": []
  },
  {
   "cell_type": "code",
   "execution_count": null,
   "metadata": {
    "id": "OYre7DQNis4B"
   },
   "outputs": [],
   "source": [
    "from sklearn import cluster, datasets, metrics\n",
    "import matplotlib.pyplot as plt\n",
    "import pandas as pd\n",
    "import jieba\n",
    "import jieba.analyse\n",
    "from wordcloud import WordCloud\n",
    "import numpy as np"
   ]
  },
  {
   "cell_type": "code",
   "execution_count": null,
   "metadata": {
    "colab": {
     "base_uri": "https://localhost:8080/",
     "height": 342
    },
    "executionInfo": {
     "elapsed": 32386,
     "status": "ok",
     "timestamp": 1610460959241,
     "user": {
      "displayName": "38weiying",
      "photoUrl": "https://lh3.googleusercontent.com/a-/AOh14GixAm0W1lZ2chajSYWF0kMWAkoNdn204mqMKrT5B3I=s64",
      "userId": "18194026143522285241"
     },
     "user_tz": -480
    },
    "id": "WxegpCz2i2JK",
    "outputId": "73a31625-f349-4c31-8136-bee75956e208"
   },
   "outputs": [
    {
     "data": {
      "image/png": "[encoded data removed]",
      "text/plain": [
       "<Figure size 432x288 with 1 Axes>"
      ]
     },
     "metadata": {
      "needs_background": "light",
      "tags": []
     },
     "output_type": "display_data"
    },
    {
     "data": {
      "text/plain": [
       "0    5923\n",
       "1    5499\n",
       "Name: kmeans, dtype: int64"
      ]
     },
     "execution_count": 8,
     "metadata": {
      "tags": []
     },
     "output_type": "execute_result"
    }
   ],
   "source": [
    "data = pd.read_excel(dir+'wine_data_2.xlsx')\n",
    "data = data.drop(columns=[\"description\",\"points\",\"price\",\"title\",\"Unnamed: 0\"])\n",
    "X = data\n",
    "\n",
    "SSE = []  # 存放每次結果的誤差平方和\n",
    "for k in range(1, 9):\n",
    "     # 構造聚類器\n",
    "    estimator = cluster.KMeans(n_clusters = k).fit(X)\n",
    "    SSE.append(estimator.inertia_)\n",
    "X = range(1, 9)\n",
    "plt.xlabel('k')\n",
    "plt.ylabel('SSE')\n",
    "plt.plot(X, SSE, 'o-')\n",
    "plt.show()\n",
    "\n",
    "X = data\n",
    "#X = data_baseOn_user_input\n",
    "# for k in range(1, 10):\n",
    "estimator = cluster.KMeans(n_clusters = 2).fit(X)\n",
    "X['kmeans'] = estimator.labels_\n",
    "X['kmeans'].value_counts()"
   ]
  },
  {
   "cell_type": "markdown",
   "metadata": {
    "id": "c6e6ZxKPi_x9"
   },
   "source": [
    "#### 2.2 add kmeans column in original file\n",
    "\n",
    "#### write into output.xlsx\n",
    "\n",
    "(讀取原黨,加入kmeans值,並且匯出為output.xlsx)"
   ]
  },
  {
   "cell_type": "code",
   "execution_count": null,
   "metadata": {
    "id": "0XIR6DaI1Bkm"
   },
   "outputs": [],
   "source": [
    "filename='wine_data_2.xlsx' #讀取檔案\n",
    "data=pd.read_excel(dir+filename)\n",
    "#data"
   ]
  },
  {
   "cell_type": "code",
   "execution_count": null,
   "metadata": {
    "colab": {
     "base_uri": "https://localhost:8080/"
    },
    "executionInfo": {
     "elapsed": 33972,
     "status": "ok",
     "timestamp": 1610460960836,
     "user": {
      "displayName": "38weiying",
      "photoUrl": "https://lh3.googleusercontent.com/a-/AOh14GixAm0W1lZ2chajSYWF0kMWAkoNdn204mqMKrT5B3I=s64",
      "userId": "18194026143522285241"
     },
     "user_tz": -480
    },
    "id": "UuagfzAU2k4d",
    "outputId": "0b1efee0-a162-4876-cc80-75e3b593a88a"
   },
   "outputs": [
    {
     "name": "stdout",
     "output_type": "stream",
     "text": [
      "['Unnamed: 0', 'country', 'description', 'points', 'price', 'province', 'taster_name', 'title', 'variety']\n",
      "['Unnamed: 0', 'country', 'description', 'points', 'price', 'province', 'taster_name', 'title', 'variety', 'kmeans']\n",
      "       Unnamed: 0  country  ... variety  kmeans\n",
      "0               1       32  ...      16       0\n",
      "1               2       43  ...      14       0\n",
      "2               3       43  ...      20       0\n",
      "3               4       43  ...      15       0\n",
      "4               5       16  ...       8       1\n",
      "...           ...      ...  ...     ...     ...\n",
      "11417       11418       16  ...       1       1\n",
      "11418       11419       16  ...       1       1\n",
      "11419       11420       16  ...       1       1\n",
      "11420       11421       16  ...       6       1\n",
      "11421       11422       38  ...      27       0\n",
      "\n",
      "[11422 rows x 10 columns]\n"
     ]
    }
   ],
   "source": [
    "\n",
    "col_name=data.columns.tolist()\n",
    "print(col_name)\n",
    "\n",
    "col_name.insert(9,\"kmeans\")\n",
    "data=data.reindex(columns=col_name)\n",
    "print(col_name)\n",
    "\n",
    "data[\"kmeans\"]=X[\"kmeans\"]\n",
    "print(data)\n"
   ]
  },
  {
   "cell_type": "code",
   "execution_count": null,
   "metadata": {
    "id": "nVmtxpYR0SHJ"
   },
   "outputs": [],
   "source": [
    "data = pd.DataFrame(data)\n",
    "data.to_excel(dir+\"output.xlsx\",sheet_name=\"Data\")"
   ]
  },
  {
   "cell_type": "markdown",
   "metadata": {
    "id": "SNWa6-Hpu7bq"
   },
   "source": [
    "# Step3. machine learning"
   ]
  },
  {
   "cell_type": "markdown",
   "metadata": {
    "id": "YCEi2UiHIA5n"
   },
   "source": [
    "#### 3.1 Define Model"
   ]
  },
  {
   "cell_type": "code",
   "execution_count": null,
   "metadata": {
    "id": "FgCWJ0NNuAj2"
   },
   "outputs": [],
   "source": [
    "data = pd.read_excel('output.xlsx')\n",
    "data = data.drop(columns=[\"description\",\"points\",\"price\",\"title\",\"Unnamed: 0.1\",\"Unnamed: 0\"])#去除我不要的資料\n",
    "X = data.drop(columns=[\"kmeans\"])\n",
    "y = data[\"kmeans\"]"
   ]
  },
  {
   "cell_type": "code",
   "execution_count": null,
   "metadata": {
    "colab": {
     "base_uri": "https://localhost:8080/"
    },
    "executionInfo": {
     "elapsed": 38953,
     "status": "ok",
     "timestamp": 1610460965831,
     "user": {
      "displayName": "38weiying",
      "photoUrl": "https://lh3.googleusercontent.com/a-/AOh14GixAm0W1lZ2chajSYWF0kMWAkoNdn204mqMKrT5B3I=s64",
      "userId": "18194026143522285241"
     },
     "user_tz": -480
    },
    "id": "U20iPdZQvwWJ",
    "outputId": "7b875e87-1e57-4fe9-dc85-72d2375f7e9b"
   },
   "outputs": [
    {
     "name": "stdout",
     "output_type": "stream",
     "text": [
      "['country', 'province', 'taster_name', 'variety']\n",
      "(11422, 4)\n"
     ]
    }
   ],
   "source": [
    "print(X.columns.tolist())\n",
    "print(X.shape)"
   ]
  },
  {
   "cell_type": "markdown",
   "metadata": {
    "id": "wI-NT5SmtZyb"
   },
   "source": [
    "Split Data"
   ]
  },
  {
   "cell_type": "code",
   "execution_count": null,
   "metadata": {
    "colab": {
     "base_uri": "https://localhost:8080/",
     "height": 417
    },
    "executionInfo": {
     "elapsed": 38956,
     "status": "ok",
     "timestamp": 1610460965838,
     "user": {
      "displayName": "38weiying",
      "photoUrl": "https://lh3.googleusercontent.com/a-/AOh14GixAm0W1lZ2chajSYWF0kMWAkoNdn204mqMKrT5B3I=s64",
      "userId": "18194026143522285241"
     },
     "user_tz": -480
    },
    "id": "iV8I_L6yIEll",
    "outputId": "48677b89-eee5-48b1-8e93-b92122937cdc"
   },
   "outputs": [
    {
     "data": {
      "text/html": [
       "<div>\n",
       "<style scoped>\n",
       "    .dataframe tbody tr th:only-of-type {\n",
       "        vertical-align: middle;\n",
       "    }\n",
       "\n",
       "    .dataframe tbody tr th {\n",
       "        vertical-align: top;\n",
       "    }\n",
       "\n",
       "    .dataframe thead th {\n",
       "        text-align: right;\n",
       "    }\n",
       "</style>\n",
       "<table border=\"1\" class=\"dataframe\">\n",
       "  <thead>\n",
       "    <tr style=\"text-align: right;\">\n",
       "      <th></th>\n",
       "      <th>country</th>\n",
       "      <th>province</th>\n",
       "      <th>taster_name</th>\n",
       "      <th>variety</th>\n",
       "    </tr>\n",
       "  </thead>\n",
       "  <tbody>\n",
       "    <tr>\n",
       "      <th>8991</th>\n",
       "      <td>43</td>\n",
       "      <td>52</td>\n",
       "      <td>19</td>\n",
       "      <td>4</td>\n",
       "    </tr>\n",
       "    <tr>\n",
       "      <th>3900</th>\n",
       "      <td>30</td>\n",
       "      <td>142</td>\n",
       "      <td>9</td>\n",
       "      <td>23</td>\n",
       "    </tr>\n",
       "    <tr>\n",
       "      <th>6843</th>\n",
       "      <td>43</td>\n",
       "      <td>52</td>\n",
       "      <td>8</td>\n",
       "      <td>13</td>\n",
       "    </tr>\n",
       "    <tr>\n",
       "      <th>7425</th>\n",
       "      <td>43</td>\n",
       "      <td>238</td>\n",
       "      <td>2</td>\n",
       "      <td>11</td>\n",
       "    </tr>\n",
       "    <tr>\n",
       "      <th>10050</th>\n",
       "      <td>43</td>\n",
       "      <td>52</td>\n",
       "      <td>12</td>\n",
       "      <td>15</td>\n",
       "    </tr>\n",
       "    <tr>\n",
       "      <th>...</th>\n",
       "      <td>...</td>\n",
       "      <td>...</td>\n",
       "      <td>...</td>\n",
       "      <td>...</td>\n",
       "    </tr>\n",
       "    <tr>\n",
       "      <th>2699</th>\n",
       "      <td>16</td>\n",
       "      <td>49</td>\n",
       "      <td>16</td>\n",
       "      <td>6</td>\n",
       "    </tr>\n",
       "    <tr>\n",
       "      <th>5254</th>\n",
       "      <td>43</td>\n",
       "      <td>52</td>\n",
       "      <td>12</td>\n",
       "      <td>4</td>\n",
       "    </tr>\n",
       "    <tr>\n",
       "      <th>7614</th>\n",
       "      <td>43</td>\n",
       "      <td>149</td>\n",
       "      <td>17</td>\n",
       "      <td>26</td>\n",
       "    </tr>\n",
       "    <tr>\n",
       "      <th>2603</th>\n",
       "      <td>43</td>\n",
       "      <td>375</td>\n",
       "      <td>17</td>\n",
       "      <td>1</td>\n",
       "    </tr>\n",
       "    <tr>\n",
       "      <th>3518</th>\n",
       "      <td>32</td>\n",
       "      <td>384</td>\n",
       "      <td>16</td>\n",
       "      <td>17</td>\n",
       "    </tr>\n",
       "  </tbody>\n",
       "</table>\n",
       "<p>7995 rows × 4 columns</p>\n",
       "</div>"
      ],
      "text/plain": [
       "       country  province  taster_name  variety\n",
       "8991        43        52           19        4\n",
       "3900        30       142            9       23\n",
       "6843        43        52            8       13\n",
       "7425        43       238            2       11\n",
       "10050       43        52           12       15\n",
       "...        ...       ...          ...      ...\n",
       "2699        16        49           16        6\n",
       "5254        43        52           12        4\n",
       "7614        43       149           17       26\n",
       "2603        43       375           17        1\n",
       "3518        32       384           16       17\n",
       "\n",
       "[7995 rows x 4 columns]"
      ]
     },
     "execution_count": 14,
     "metadata": {
      "tags": []
     },
     "output_type": "execute_result"
    }
   ],
   "source": [
    "from sklearn.model_selection import train_test_split\n",
    "\n",
    "X_train, X_test, y_train, y_test = train_test_split(X,y,test_size=0.3)\n",
    "\n",
    "X_train"
   ]
  },
  {
   "cell_type": "markdown",
   "metadata": {
    "id": "HuMf7lg9tism"
   },
   "source": [
    "##### 3.1.1 Logistic Regression Model"
   ]
  },
  {
   "cell_type": "code",
   "execution_count": null,
   "metadata": {
    "colab": {
     "base_uri": "https://localhost:8080/"
    },
    "executionInfo": {
     "elapsed": 38955,
     "status": "ok",
     "timestamp": 1610460965841,
     "user": {
      "displayName": "38weiying",
      "photoUrl": "https://lh3.googleusercontent.com/a-/AOh14GixAm0W1lZ2chajSYWF0kMWAkoNdn204mqMKrT5B3I=s64",
      "userId": "18194026143522285241"
     },
     "user_tz": -480
    },
    "id": "GNY7wU1ZIEuF",
    "outputId": "cebcf39a-d562-40c2-f769-e00a895571d0"
   },
   "outputs": [
    {
     "name": "stdout",
     "output_type": "stream",
     "text": [
      "(1, 4)\n",
      "[[  1 251  13   4]]\n",
      "[0]\n"
     ]
    }
   ],
   "source": [
    "from sklearn.linear_model import LogisticRegression\n",
    "\n",
    "def logit( X_train, X_test, y_train, y_test):\n",
    "    lr = LogisticRegression(solver='lbfgs')\n",
    "    # train(訓練模型)\n",
    "    lr.fit(X_train, y_train)\n",
    "    y_predict = lr.predict(X_test)\n",
    "    # result(結果)\n",
    "    logit_score = lr.score(X_test, y_test)\n",
    "    return logit_score\n",
    "\n",
    "\n",
    "Input_number=np.array([Input_number])\n",
    "print(Input_number.shape)\n",
    "print(Input_number)\n",
    "\n",
    "lr = LogisticRegression(solver='lbfgs')\n",
    "lr.fit(X_train, y_train)\n",
    "y_predict = lr.predict(Input_number)\n",
    "print(y_predict)\n",
    "\n",
    "#print(X_train)"
   ]
  },
  {
   "cell_type": "markdown",
   "metadata": {
    "id": "vWDThz3Nto6_"
   },
   "source": [
    "##### 3.1.2 Support Vector Machine"
   ]
  },
  {
   "cell_type": "code",
   "execution_count": null,
   "metadata": {
    "colab": {
     "base_uri": "https://localhost:8080/"
    },
    "executionInfo": {
     "elapsed": 40645,
     "status": "ok",
     "timestamp": 1610460967536,
     "user": {
      "displayName": "38weiying",
      "photoUrl": "https://lh3.googleusercontent.com/a-/AOh14GixAm0W1lZ2chajSYWF0kMWAkoNdn204mqMKrT5B3I=s64",
      "userId": "18194026143522285241"
     },
     "user_tz": -480
    },
    "id": "gJM8sdDXIE1K",
    "outputId": "52764bc4-8da2-41b7-a5d2-4346ce8cbe7a"
   },
   "outputs": [
    {
     "name": "stdout",
     "output_type": "stream",
     "text": [
      "[0]\n"
     ]
    }
   ],
   "source": [
    "from sklearn import svm\n",
    "\n",
    "\n",
    "def SVM( X_train, X_test, y_train, y_test):\n",
    "    # train(訓練模型)\n",
    "    svc_clf = svm.SVC(gamma='scale', kernel='sigmoid')\n",
    "    svc_clf.fit(X_train, y_train)\n",
    "    y_predict = svc_clf.predict(X_test)\n",
    "    # result(結果)\n",
    "    svc_score = svc_clf.score(X_test, y_test)\n",
    "    return svc_score\n",
    "\n",
    "#test Input_number\n",
    "svc_clf = svm.SVC(gamma='scale', kernel='sigmoid')\n",
    "svc_clf.fit(X_train, y_train)\n",
    "y_predict = svc_clf.predict(Input_number)\n",
    "print(y_predict)"
   ]
  },
  {
   "cell_type": "markdown",
   "metadata": {
    "id": "a_eb_Ndgt2nZ"
   },
   "source": [
    "##### 3.1.3 Decision Tree"
   ]
  },
  {
   "cell_type": "code",
   "execution_count": null,
   "metadata": {
    "colab": {
     "base_uri": "https://localhost:8080/"
    },
    "executionInfo": {
     "elapsed": 40644,
     "status": "ok",
     "timestamp": 1610460967539,
     "user": {
      "displayName": "38weiying",
      "photoUrl": "https://lh3.googleusercontent.com/a-/AOh14GixAm0W1lZ2chajSYWF0kMWAkoNdn204mqMKrT5B3I=s64",
      "userId": "18194026143522285241"
     },
     "user_tz": -480
    },
    "id": "Va0YOJCHIE7A",
    "outputId": "819a8ed7-1696-41fc-d106-4b3bc9875ad8"
   },
   "outputs": [
    {
     "name": "stdout",
     "output_type": "stream",
     "text": [
      "[0]\n"
     ]
    }
   ],
   "source": [
    "from sklearn.tree import DecisionTreeClassifier\n",
    "\n",
    "def Deci( X_train, X_test, y_train, y_test):\n",
    "    #train(訓練)\n",
    "    tree = DecisionTreeClassifier(criterion='entropy')\n",
    "    tree.fit(X_train, y_train)\n",
    "    y_predict = tree.predict(X_test)\n",
    "    #result(結果)\n",
    "    deci_score = tree.score(X_test, y_test)\n",
    "    return deci_score\n",
    "\n",
    "#test Input_number\n",
    "tree = DecisionTreeClassifier(criterion='entropy')\n",
    "tree.fit(X_train, y_train)\n",
    "y_predict = tree.predict(Input_number)\n",
    "print(y_predict)"
   ]
  },
  {
   "cell_type": "markdown",
   "metadata": {
    "id": "ZQAWlmUHt9Va"
   },
   "source": [
    "#### 3.2 test Model"
   ]
  },
  {
   "cell_type": "code",
   "execution_count": null,
   "metadata": {
    "id": "UQt8JIFeIE_a"
   },
   "outputs": [],
   "source": [
    "list_data = []\n",
    "\n",
    "#X_train, X_test, y_train, y_test = split(X, y)\n",
    "\n",
    "#logit\n",
    "logit_score = logit(X_train, X_test, y_train, y_test)\n",
    "#svm\n",
    "svc_score= SVM(X_train, X_test, y_train, y_test)\n",
    "\n",
    "#deci\n",
    "deci_score= Deci(X_train, X_test, y_train, y_test)\n",
    "\n",
    "list_data.append([\n",
    "    logit_score, svc_score, deci_score\n",
    "])\n",
    "\n",
    "col_name = [\n",
    "    \"Logit_Precision\",\n",
    "    \"SVM_Precision\",\n",
    "    \"Deci_Precision\",\n",
    "]\n",
    "\n",
    "pd_result = pd.DataFrame(list_data, columns=col_name)"
   ]
  },
  {
   "cell_type": "markdown",
   "metadata": {
    "id": "kR2Tm_NYYQnx"
   },
   "source": [
    ">  show each method's precision\n",
    "\n",
    "\n",
    "\n",
    "\n",
    "\n",
    "\n",
    "\n",
    "\n"
   ]
  },
  {
   "cell_type": "code",
   "execution_count": null,
   "metadata": {
    "colab": {
     "base_uri": "https://localhost:8080/",
     "height": 79
    },
    "executionInfo": {
     "elapsed": 42216,
     "status": "ok",
     "timestamp": 1610460969119,
     "user": {
      "displayName": "38weiying",
      "photoUrl": "https://lh3.googleusercontent.com/a-/AOh14GixAm0W1lZ2chajSYWF0kMWAkoNdn204mqMKrT5B3I=s64",
      "userId": "18194026143522285241"
     },
     "user_tz": -480
    },
    "id": "AGz_2MoquQhm",
    "outputId": "07b1d5ea-85c0-4df3-cf75-b6c54311d2c7"
   },
   "outputs": [
    {
     "data": {
      "text/html": [
       "<div>\n",
       "<style scoped>\n",
       "    .dataframe tbody tr th:only-of-type {\n",
       "        vertical-align: middle;\n",
       "    }\n",
       "\n",
       "    .dataframe tbody tr th {\n",
       "        vertical-align: top;\n",
       "    }\n",
       "\n",
       "    .dataframe thead th {\n",
       "        text-align: right;\n",
       "    }\n",
       "</style>\n",
       "<table border=\"1\" class=\"dataframe\">\n",
       "  <thead>\n",
       "    <tr style=\"text-align: right;\">\n",
       "      <th></th>\n",
       "      <th>Logit_Precision</th>\n",
       "      <th>SVM_Precision</th>\n",
       "      <th>Deci_Precision</th>\n",
       "    </tr>\n",
       "  </thead>\n",
       "  <tbody>\n",
       "    <tr>\n",
       "      <th>0</th>\n",
       "      <td>1.0</td>\n",
       "      <td>0.770061</td>\n",
       "      <td>1.0</td>\n",
       "    </tr>\n",
       "  </tbody>\n",
       "</table>\n",
       "</div>"
      ],
      "text/plain": [
       "   Logit_Precision  SVM_Precision  Deci_Precision\n",
       "0              1.0       0.770061             1.0"
      ]
     },
     "execution_count": 19,
     "metadata": {
      "tags": []
     },
     "output_type": "execute_result"
    }
   ],
   "source": [
    "pd_result"
   ]
  },
  {
   "cell_type": "markdown",
   "metadata": {
    "id": "Idl3Tudzodd9"
   },
   "source": [
    "> Choose Decision Tree to test user data\n",
    "\n",
    "> Find user data belongs to which group\n"
   ]
  },
  {
   "cell_type": "code",
   "execution_count": null,
   "metadata": {
    "colab": {
     "base_uri": "https://localhost:8080/"
    },
    "executionInfo": {
     "elapsed": 42224,
     "status": "ok",
     "timestamp": 1610460969131,
     "user": {
      "displayName": "38weiying",
      "photoUrl": "https://lh3.googleusercontent.com/a-/AOh14GixAm0W1lZ2chajSYWF0kMWAkoNdn204mqMKrT5B3I=s64",
      "userId": "18194026143522285241"
     },
     "user_tz": -480
    },
    "id": "oe6VwhJjoczP",
    "outputId": "26502e40-8a1a-4a25-9133-42832f17df30"
   },
   "outputs": [
    {
     "name": "stdout",
     "output_type": "stream",
     "text": [
      "['Armenia', 'Nevada', 'Mike DeSimone', 'Airen', 82, 3]\n",
      "[[  1 251  13   4]]\n"
     ]
    }
   ],
   "source": [
    "print(Input_value)\n",
    "print(Input_number)"
   ]
  },
  {
   "cell_type": "code",
   "execution_count": null,
   "metadata": {
    "colab": {
     "base_uri": "https://localhost:8080/"
    },
    "executionInfo": {
     "elapsed": 42222,
     "status": "ok",
     "timestamp": 1610460969134,
     "user": {
      "displayName": "38weiying",
      "photoUrl": "https://lh3.googleusercontent.com/a-/AOh14GixAm0W1lZ2chajSYWF0kMWAkoNdn204mqMKrT5B3I=s64",
      "userId": "18194026143522285241"
     },
     "user_tz": -480
    },
    "id": "F_-FMfb3JcnZ",
    "outputId": "9b045757-f553-40f6-cb11-0c4a5553ca81"
   },
   "outputs": [
    {
     "name": "stdout",
     "output_type": "stream",
     "text": [
      "0\n",
      "the test value belongs to group 1\n"
     ]
    }
   ],
   "source": [
    "#Decision Tree to test Input_number\n",
    "tree = DecisionTreeClassifier(criterion='entropy')\n",
    "tree.fit(X_train, y_train)\n",
    "y_predict = tree.predict(Input_number)\n",
    "print(y_predict[0])\n",
    "\n",
    "group_num=y_predict[0]\n",
    "\n",
    "print(\"the test value belongs to group\",group_num+1)"
   ]
  },
  {
   "cell_type": "code",
   "execution_count": null,
   "metadata": {
    "colab": {
     "base_uri": "https://localhost:8080/",
     "height": 1000
    },
    "executionInfo": {
     "elapsed": 43447,
     "status": "ok",
     "timestamp": 1610460970363,
     "user": {
      "displayName": "38weiying",
      "photoUrl": "https://lh3.googleusercontent.com/a-/AOh14GixAm0W1lZ2chajSYWF0kMWAkoNdn204mqMKrT5B3I=s64",
      "userId": "18194026143522285241"
     },
     "user_tz": -480
    },
    "id": "4rAL2RbbNJ3i",
    "outputId": "4e789585-216b-48cd-9eab-38571e3efbc3"
   },
   "outputs": [
    {
     "data": {
      "text/html": [
       "<div>\n",
       "<style scoped>\n",
       "    .dataframe tbody tr th:only-of-type {\n",
       "        vertical-align: middle;\n",
       "    }\n",
       "\n",
       "    .dataframe tbody tr th {\n",
       "        vertical-align: top;\n",
       "    }\n",
       "\n",
       "    .dataframe thead th {\n",
       "        text-align: right;\n",
       "    }\n",
       "</style>\n",
       "<table border=\"1\" class=\"dataframe\">\n",
       "  <thead>\n",
       "    <tr style=\"text-align: right;\">\n",
       "      <th></th>\n",
       "      <th>Unnamed: 0</th>\n",
       "      <th>Unnamed: 0.1</th>\n",
       "      <th>country</th>\n",
       "      <th>description</th>\n",
       "      <th>points</th>\n",
       "      <th>price</th>\n",
       "      <th>province</th>\n",
       "      <th>taster_name</th>\n",
       "      <th>title</th>\n",
       "      <th>variety</th>\n",
       "      <th>kmeans</th>\n",
       "    </tr>\n",
       "  </thead>\n",
       "  <tbody>\n",
       "    <tr>\n",
       "      <th>150</th>\n",
       "      <td>150</td>\n",
       "      <td>151</td>\n",
       "      <td>1</td>\n",
       "      <td>A medium-weight Cabernet with plum, prune, tob...</td>\n",
       "      <td>89</td>\n",
       "      <td>30</td>\n",
       "      <td>388</td>\n",
       "      <td>13</td>\n",
       "      <td>Sottano 2009 Reserva de Familia Cabernet Sauvi...</td>\n",
       "      <td>4</td>\n",
       "      <td>0</td>\n",
       "    </tr>\n",
       "    <tr>\n",
       "      <th>442</th>\n",
       "      <td>442</td>\n",
       "      <td>443</td>\n",
       "      <td>1</td>\n",
       "      <td>Saucy berry and tea aromas are herbal, earthy ...</td>\n",
       "      <td>85</td>\n",
       "      <td>14</td>\n",
       "      <td>388</td>\n",
       "      <td>13</td>\n",
       "      <td>Domaine Bousquet 2015 Cabernet Sauvignon (Tupu...</td>\n",
       "      <td>4</td>\n",
       "      <td>0</td>\n",
       "    </tr>\n",
       "    <tr>\n",
       "      <th>608</th>\n",
       "      <td>608</td>\n",
       "      <td>609</td>\n",
       "      <td>1</td>\n",
       "      <td>Coconut and dill aromas rise from the nose, an...</td>\n",
       "      <td>88</td>\n",
       "      <td>20</td>\n",
       "      <td>388</td>\n",
       "      <td>13</td>\n",
       "      <td>Pascual Toso 2007 Reserve Las Barrancas Vineya...</td>\n",
       "      <td>4</td>\n",
       "      <td>0</td>\n",
       "    </tr>\n",
       "    <tr>\n",
       "      <th>734</th>\n",
       "      <td>734</td>\n",
       "      <td>735</td>\n",
       "      <td>1</td>\n",
       "      <td>Aromas of blackberry and briar patch expand to...</td>\n",
       "      <td>88</td>\n",
       "      <td>19</td>\n",
       "      <td>388</td>\n",
       "      <td>13</td>\n",
       "      <td>Zolo 2014 Reserve Estate Grown Cabernet Sauvig...</td>\n",
       "      <td>4</td>\n",
       "      <td>0</td>\n",
       "    </tr>\n",
       "    <tr>\n",
       "      <th>927</th>\n",
       "      <td>927</td>\n",
       "      <td>928</td>\n",
       "      <td>1</td>\n",
       "      <td>Rather sweet and medicinal; the wine comes int...</td>\n",
       "      <td>85</td>\n",
       "      <td>10</td>\n",
       "      <td>388</td>\n",
       "      <td>13</td>\n",
       "      <td>Finca Sophenia 2006 Altosur Cabernet Sauvignon...</td>\n",
       "      <td>4</td>\n",
       "      <td>0</td>\n",
       "    </tr>\n",
       "    <tr>\n",
       "      <th>...</th>\n",
       "      <td>...</td>\n",
       "      <td>...</td>\n",
       "      <td>...</td>\n",
       "      <td>...</td>\n",
       "      <td>...</td>\n",
       "      <td>...</td>\n",
       "      <td>...</td>\n",
       "      <td>...</td>\n",
       "      <td>...</td>\n",
       "      <td>...</td>\n",
       "      <td>...</td>\n",
       "    </tr>\n",
       "    <tr>\n",
       "      <th>10902</th>\n",
       "      <td>10902</td>\n",
       "      <td>10903</td>\n",
       "      <td>1</td>\n",
       "      <td>Open-grain oak aromas are out front, followed ...</td>\n",
       "      <td>94</td>\n",
       "      <td>50</td>\n",
       "      <td>388</td>\n",
       "      <td>13</td>\n",
       "      <td>Pascual Toso 2014 Alta Barrancas Vineyards Cab...</td>\n",
       "      <td>4</td>\n",
       "      <td>0</td>\n",
       "    </tr>\n",
       "    <tr>\n",
       "      <th>10962</th>\n",
       "      <td>10962</td>\n",
       "      <td>10963</td>\n",
       "      <td>1</td>\n",
       "      <td>This Cab opens with mellow, woody aromas on to...</td>\n",
       "      <td>89</td>\n",
       "      <td>22</td>\n",
       "      <td>388</td>\n",
       "      <td>13</td>\n",
       "      <td>Luigi Bosca 2010 Cabernet Sauvignon (Maip)</td>\n",
       "      <td>4</td>\n",
       "      <td>0</td>\n",
       "    </tr>\n",
       "    <tr>\n",
       "      <th>11034</th>\n",
       "      <td>11034</td>\n",
       "      <td>11035</td>\n",
       "      <td>1</td>\n",
       "      <td>Opens with red fruit aromas that are like a mi...</td>\n",
       "      <td>85</td>\n",
       "      <td>12</td>\n",
       "      <td>251</td>\n",
       "      <td>13</td>\n",
       "      <td>Familia Schroeder 2007 Saurus Patagonia Cabern...</td>\n",
       "      <td>4</td>\n",
       "      <td>0</td>\n",
       "    </tr>\n",
       "    <tr>\n",
       "      <th>11247</th>\n",
       "      <td>11247</td>\n",
       "      <td>11248</td>\n",
       "      <td>1</td>\n",
       "      <td>Leafy aromas of tomato and green herbs pile on...</td>\n",
       "      <td>83</td>\n",
       "      <td>15</td>\n",
       "      <td>388</td>\n",
       "      <td>13</td>\n",
       "      <td>Angulo Innocenti 2014 Nonni Cabernet Sauvignon...</td>\n",
       "      <td>4</td>\n",
       "      <td>0</td>\n",
       "    </tr>\n",
       "    <tr>\n",
       "      <th>11256</th>\n",
       "      <td>11256</td>\n",
       "      <td>11257</td>\n",
       "      <td>1</td>\n",
       "      <td>Stewy, muddled, herbal aromas come prior to a ...</td>\n",
       "      <td>83</td>\n",
       "      <td>22</td>\n",
       "      <td>388</td>\n",
       "      <td>13</td>\n",
       "      <td>Kaiken 2012 Ultra Cabernet Sauvignon (Mendoza)</td>\n",
       "      <td>4</td>\n",
       "      <td>0</td>\n",
       "    </tr>\n",
       "  </tbody>\n",
       "</table>\n",
       "<p>66 rows × 11 columns</p>\n",
       "</div>"
      ],
      "text/plain": [
       "       Unnamed: 0  Unnamed: 0.1  ...  variety kmeans\n",
       "150           150           151  ...        4      0\n",
       "442           442           443  ...        4      0\n",
       "608           608           609  ...        4      0\n",
       "734           734           735  ...        4      0\n",
       "927           927           928  ...        4      0\n",
       "...           ...           ...  ...      ...    ...\n",
       "10902       10902         10903  ...        4      0\n",
       "10962       10962         10963  ...        4      0\n",
       "11034       11034         11035  ...        4      0\n",
       "11247       11247         11248  ...        4      0\n",
       "11256       11256         11257  ...        4      0\n",
       "\n",
       "[66 rows x 11 columns]"
      ]
     },
     "execution_count": 22,
     "metadata": {
      "tags": []
     },
     "output_type": "execute_result"
    }
   ],
   "source": [
    "data = pd.read_excel('output.xlsx')\n",
    "data_baseOn_user_input=data.loc[(data['country']==Input_number_2[0])&(data['variety']==Input_number_2[3])&(data['points']>Input_number_2[4])&(data['price']>Input_number_2[5])]\n",
    "data_baseOn_user_input"
   ]
  },
  {
   "cell_type": "markdown",
   "metadata": {
    "id": "XRyL3NTETZWB"
   },
   "source": [
    "#Step4. Visualization: WordCloud"
   ]
  },
  {
   "cell_type": "markdown",
   "metadata": {
    "id": "pNHLsb2AjCPm"
   },
   "source": [
    "####4.1 use output.xlsx(include k-means result) to get the description data of user group\n",
    "\n",
    "####and get the user variable data to get the description data "
   ]
  },
  {
   "cell_type": "code",
   "execution_count": null,
   "metadata": {
    "id": "SNU-lX_djMWU"
   },
   "outputs": [],
   "source": [
    "#********************* 拿出使用者所選擇變數後所有資料的敘述 ****************\n",
    "i=0\n",
    "gr_des=[]\n",
    "gr_title=[]\n",
    "\n",
    "for catch in data_baseOn_user_input.kmeans:\n",
    "    if catch==group_num:\n",
    "        des = data_baseOn_user_input.iloc[i,3]\n",
    "        title = data_baseOn_user_input.iloc[i,8]\n",
    "        gr_des.append(des)\n",
    "        gr_title.append(title)\n",
    "        i+=1\n",
    "        #print(des)\n",
    "    else:\n",
    "        continue\n",
    "\n",
    "\n",
    "#******************* 拿出使用者所屬的group的敘述 ********************\n",
    "df = pd.read_excel(dir+'output.xlsx')\n",
    "\n",
    "i=0\n",
    "gr_des2=[]\n",
    "gr_title2=[]\n",
    "\n",
    "for catch in df.kmeans:\n",
    "    if catch==group_num:\n",
    "        des = df.iloc[i,3]\n",
    "        title = df.iloc[i,8]\n",
    "        gr_des2.append(des)\n",
    "        gr_title2.append(title)\n",
    "        i+=1\n",
    "        #print(des)\n",
    "    else:\n",
    "        continue"
   ]
  },
  {
   "cell_type": "code",
   "execution_count": null,
   "metadata": {
    "id": "T0FkSDKQa_nx"
   },
   "outputs": [],
   "source": [
    "#print(len(gr_title))\n",
    "#print(len(set(gr_title)))"
   ]
  },
  {
   "cell_type": "markdown",
   "metadata": {
    "id": "mtOagXzZjPeM"
   },
   "source": [
    "#### 4.2 split user group's words and user choose variable data words\n",
    "#### show top 25 words and their frequency\n",
    "(斷詞+前N筆結果與權重)"
   ]
  },
  {
   "cell_type": "code",
   "execution_count": null,
   "metadata": {
    "colab": {
     "base_uri": "https://localhost:8080/"
    },
    "executionInfo": {
     "elapsed": 59501,
     "status": "ok",
     "timestamp": 1610460986432,
     "user": {
      "displayName": "38weiying",
      "photoUrl": "https://lh3.googleusercontent.com/a-/AOh14GixAm0W1lZ2chajSYWF0kMWAkoNdn204mqMKrT5B3I=s64",
      "userId": "18194026143522285241"
     },
     "user_tz": -480
    },
    "id": "Gu0Qt_4-jR-h",
    "outputId": "b90367ee-78d5-4a8a-db7a-691cd89a85b5"
   },
   "outputs": [
    {
     "name": "stderr",
     "output_type": "stream",
     "text": [
      "Building prefix dict from the default dictionary ...\n",
      "Dumping model to file cache /tmp/jieba.cache\n",
      "Loading model cost 0.913 seconds.\n",
      "Prefix dict has been built successfully.\n"
     ]
    },
    {
     "name": "stdout",
     "output_type": "stream",
     "text": [
      "flavors 0.35864302508699997\n",
      "aromas 0.34605905929447367\n",
      "finish 0.32718311060568417\n",
      "berry 0.31459914481315787\n",
      "herbal 0.2579712987467894\n",
      "but 0.2202194013692105\n",
      "palate 0.20134345268042103\n",
      "plum 0.16988353819910523\n",
      "cassis 0.13842362371778946\n",
      "while 0.1321316408215263\n",
      "fruit 0.12583965792526314\n",
      "red 0.12583965792526314\n",
      "notes 0.09437974344394735\n",
      "full 0.0880877605476842\n",
      "cherry 0.0880877605476842\n",
      "spicy 0.0880877605476842\n",
      "feels 0.08179577765142104\n",
      "tannins 0.08179577765142104\n",
      "Cabernet 0.0755037947551579\n",
      "raspberry 0.0755037947551579\n",
      "bit 0.0755037947551579\n",
      "green 0.0755037947551579\n",
      "nose 0.06921181185889473\n",
      "fruits 0.06921181185889473\n",
      "baked 0.06921181185889473\n",
      "\n",
      "\n",
      "wine 0.2757091112495698\n",
      "flavors 0.19818645407534605\n",
      "fruit 0.1703746533377008\n",
      "palate 0.14394979279432132\n",
      "finish 0.12628455453051515\n",
      "aromas 0.12445963322227072\n",
      "black 0.11080922183660231\n",
      "acidity 0.10701338551545389\n",
      "tannins 0.10416650827459256\n",
      "cherry 0.0988377380545188\n",
      "but 0.08898316298999882\n",
      "ripe 0.0867932574201055\n",
      "red 0.07635470753694731\n",
      "Drink 0.07328883973909665\n",
      "nose 0.06737609470038468\n",
      "notes 0.06460221431185313\n",
      "berry 0.0637262520838958\n",
      "spice 0.06350726152690647\n",
      "full 0.05715653537421582\n",
      "plum 0.05679155111256693\n",
      "fresh 0.05474763924733316\n",
      "oak 0.05379868016704605\n",
      "its 0.053506692757726945\n",
      "fruits 0.05146278089249317\n",
      "well 0.050805809221525174\n"
     ]
    }
   ],
   "source": [
    "#******************* 切割使用者所選擇變數後所有資料的敘述 ********************\n",
    "split1 = []\n",
    "split2 = []\n",
    "\n",
    "#斷詞\n",
    "for ele in gr_des:\n",
    "    text = ele\n",
    "    split1 = jieba.lcut(text)\n",
    "    split2.append(split1)\n",
    "\n",
    "# 設定停用字(排除常用詞、無法代表特殊意義的字詞)\n",
    "stopwords = {}.fromkeys([\"come\",\"but\",\"finish\",\"now\",\"through\",\" \",\"，\",\".\",\"with\",\"on\",\"the\",\"it\",\"This\",\"is\",\"It\",\"flavors\",\"Of\"\n",
    "              ,\"and\",\"I\",\"t\",\"in\",\"are\",\"note\",\"while\",\"notes\",\"I t\"])\n",
    "#tf /idf\n",
    "gr1_idf = jieba.analyse.extract_tags(str(split2), topK=25, withWeight=False)\n",
    "\n",
    "for x, w in jieba.analyse.extract_tags(str(split2),topK=25, withWeight=True):\n",
    "    print('%s %s' % (x, w))\n",
    "\n",
    "\n",
    "with open(dir+'group'+str(group_num+1)+'_2.txt',\"w\") as f:\n",
    "  for i in range(0,len(gr1_idf),1):\n",
    "    f.write(str(gr1_idf[i])+\" \")\n",
    "\n",
    "print()\n",
    "print()\n",
    "#******************* 切割使用者所屬的group的敘述 ********************\n",
    "split1 = []\n",
    "split2 = []\n",
    "\n",
    "#斷詞\n",
    "for ele in gr_des2:\n",
    "    text = ele\n",
    "    split1 = jieba.lcut(text)\n",
    "    split2.append(split1)\n",
    "\n",
    "# 設定停用字(排除常用詞、無法代表特殊意義的字詞)\n",
    "stopwords = {}.fromkeys([\"come\",\"but\",\"finish\",\"now\",\"through\",\" \",\"，\",\".\",\"with\",\"on\",\"the\",\"it\",\"This\",\"is\",\"It\",\"flavors\",\"Of\"\n",
    "              ,\"and\",\"I\",\"t\",\"in\",\"are\",\"note\",\"while\",\"notes\",\"I t\"])\n",
    "#tf /idf\n",
    "gr2_idf = jieba.analyse.extract_tags(str(split2), topK=25, withWeight=False)\n",
    "\n",
    "for x, w in jieba.analyse.extract_tags(str(split2),topK=25, withWeight=True):\n",
    "    print('%s %s' % (x, w))\n",
    "\n",
    "\n",
    "with open(dir+'group'+str(group_num+1)+'_1.txt',\"w\") as f:\n",
    "  for i in range(0,len(gr2_idf),1):\n",
    "    f.write(str(gr2_idf[i])+\" \")\n"
   ]
  },
  {
   "cell_type": "markdown",
   "metadata": {
    "id": "Xun06AwFTR0f"
   },
   "source": [
    "#### 4.3 WordCloud"
   ]
  },
  {
   "cell_type": "code",
   "execution_count": null,
   "metadata": {
    "colab": {
     "base_uri": "https://localhost:8080/",
     "height": 468
    },
    "executionInfo": {
     "elapsed": 1539,
     "status": "ok",
     "timestamp": 1610461963438,
     "user": {
      "displayName": "38weiying",
      "photoUrl": "https://lh3.googleusercontent.com/a-/AOh14GixAm0W1lZ2chajSYWF0kMWAkoNdn204mqMKrT5B3I=s64",
      "userId": "18194026143522285241"
     },
     "user_tz": -480
    },
    "id": "3XTFxf77nV36",
    "outputId": "ea1739cd-f44a-4b20-f73f-9083040fa12c"
   },
   "outputs": [
    {
     "name": "stdout",
     "output_type": "stream",
     "text": [
      "1. according to user choose varianbles data\n"
     ]
    },
    {
     "data": {
      "image/png": "[encoded data removed]",
      "text/plain": [
       "<Figure size 432x288 with 1 Axes>"
      ]
     },
     "metadata": {
      "needs_background": "light",
      "tags": []
     },
     "output_type": "display_data"
    },
    {
     "data": {
      "text/plain": [
       "<Figure size 1000x600 with 0 Axes>"
      ]
     },
     "metadata": {
      "tags": []
     },
     "output_type": "display_data"
    },
    {
     "name": "stdout",
     "output_type": "stream",
     "text": [
      "\n",
      "2. according to user group data\n"
     ]
    },
    {
     "data": {
      "image/png": "[encoded data removed]",
      "text/plain": [
       "<Figure size 432x288 with 1 Axes>"
      ]
     },
     "metadata": {
      "needs_background": "light",
      "tags": []
     },
     "output_type": "display_data"
    },
    {
     "data": {
      "text/plain": [
       "<Figure size 1000x600 with 0 Axes>"
      ]
     },
     "metadata": {
      "tags": []
     },
     "output_type": "display_data"
    }
   ],
   "source": [
    "import numpy as np\n",
    "import matplotlib.pyplot as plt\n",
    "from wordcloud import WordCloud\n",
    "\n",
    "text1 = open(dir+'group'+str(group_num+1)+'_1.txt').read()\n",
    "text2 = open(dir+'group'+str(group_num+1)+'_2.txt').read()\n",
    "\n",
    "wc = WordCloud(background_color=\"white\", #背景顏色\n",
    "        max_words = 50 ,   #文字雲顯示最大詞數\n",
    "        stopwords=stopwords)    #停用字詞\n",
    "wc.generate(text1)\n",
    "# 視覺化呈現\n",
    "plt.imshow(wc)\n",
    "plt.axis(\"off\")\n",
    "plt.figure(figsize=(10,6), dpi = 100)\n",
    "print(\"1. according to user choose varianbles data\")\n",
    "plt.show()\n",
    "\n",
    "print()\n",
    "wc.generate(text2)\n",
    "# 視覺化呈現\n",
    "plt.imshow(wc)\n",
    "plt.axis(\"off\")\n",
    "plt.figure(figsize=(10,6), dpi = 100)\n",
    "print(\"2. according to user group data\")\n",
    "plt.show()"
   ]
  },
  {
   "cell_type": "markdown",
   "metadata": {
    "id": "J0xFyvBfvsYx"
   },
   "source": [
    "# **Recommand list**"
   ]
  },
  {
   "cell_type": "markdown",
   "metadata": {
    "id": "6XRrqns-vTyk"
   },
   "source": [
    "#### ***1. show the similar alcoholic beverages recommand list from user group***"
   ]
  },
  {
   "cell_type": "code",
   "execution_count": null,
   "metadata": {
    "colab": {
     "base_uri": "https://localhost:8080/"
    },
    "executionInfo": {
     "elapsed": 60119,
     "status": "ok",
     "timestamp": 1610460987058,
     "user": {
      "displayName": "38weiying",
      "photoUrl": "https://lh3.googleusercontent.com/a-/AOh14GixAm0W1lZ2chajSYWF0kMWAkoNdn204mqMKrT5B3I=s64",
      "userId": "18194026143522285241"
     },
     "user_tz": -480
    },
    "id": "0uqjkAqwvTCV",
    "outputId": "3f74c12a-de12-4809-e97c-4d1921273f50"
   },
   "outputs": [
    {
     "name": "stdout",
     "output_type": "stream",
     "text": [
      "1. Chteau de Sours 2011 La Fleur d'Amlie  (Bordeaux Blanc)\n",
      "2. Souverain 2010 Chardonnay (North Coast)\n",
      "3. Tres Palacios 2011 Reserve Pinot Noir (Maipo Valley)\n",
      "4. Undurraga 2001 Reserva Merlot (Maipo Valley)\n",
      "5. Jacquart NV Brut Mosaque  (Champagne)\n",
      "6. Quinta do Sagrado 2008 VT '08 Red (Douro)\n",
      "7. Chteau Lamothe-Vincent 2008 Sauvignon  (Bordeaux Blanc)\n",
      "8. Yvon Mau 2007 Premius Bordeaux Sauvignon  (Bordeaux Blanc)\n",
      "9. Byzantium 2005 Rosso di Valachia Red (Dealu Mare)\n",
      "10. Amavi 2011 Syrah (Walla Walla Valley (WA))\n"
     ]
    }
   ],
   "source": [
    "from collections import Counter\n",
    "title_counts = Counter(gr_title2)\n",
    "# 頻率最高的幾個title\n",
    "top = title_counts.most_common(10)\n",
    "\n",
    "for i in range(0,len(top),1):\n",
    "  print(str(i+1)+\". \"+top[i][0])"
   ]
  },
  {
   "cell_type": "markdown",
   "metadata": {
    "id": "Xucwxivp3pmn"
   },
   "source": [
    "#### ***2. show the alcoholic beverages recommand list from user choose variable data***"
   ]
  },
  {
   "cell_type": "code",
   "execution_count": null,
   "metadata": {
    "colab": {
     "base_uri": "https://localhost:8080/"
    },
    "executionInfo": {
     "elapsed": 60118,
     "status": "ok",
     "timestamp": 1610460987061,
     "user": {
      "displayName": "38weiying",
      "photoUrl": "https://lh3.googleusercontent.com/a-/AOh14GixAm0W1lZ2chajSYWF0kMWAkoNdn204mqMKrT5B3I=s64",
      "userId": "18194026143522285241"
     },
     "user_tz": -480
    },
    "id": "9vf8BeW3bd-t",
    "outputId": "05b36c98-59d6-4127-e75f-dfa1d14432ec"
   },
   "outputs": [
    {
     "name": "stdout",
     "output_type": "stream",
     "text": [
      "1. Sottano 2009 Reserva de Familia Cabernet Sauvignon (Mendoza)\n",
      "2. Domaine Bousquet 2015 Cabernet Sauvignon (Tupungato)\n",
      "3. Pascual Toso 2007 Reserve Las Barrancas Vineyards Cabernet Sauvignon (Mendoza)\n",
      "4. Zolo 2014 Reserve Estate Grown Cabernet Sauvignon (Valle de Uco)\n",
      "5. Finca Sophenia 2006 Altosur Cabernet Sauvignon (Tupungato)\n",
      "6. Rutini 2012 Trumpeter Cabernet Sauvignon (Mendoza)\n",
      "7. San Felipe 2012 Oak Cask Estate Bottled Cabernet Sauvignon (Mendoza)\n",
      "8. Trapiche 2014 Oak Cask Cabernet Sauvignon (Mendoza)\n",
      "9. Via Cobos 2007 Felino Cabernet Sauvignon (Mendoza)\n",
      "10. Pulenta Estate 2008 La Flor Cabernet Sauvignon (Mendoza)\n"
     ]
    }
   ],
   "source": [
    "from collections import Counter\n",
    "title_counts = Counter(gr_title)\n",
    "# 頻率最高的幾個title\n",
    "top = title_counts.most_common(10)\n",
    "\n",
    "for i in range(0,len(top),1):\n",
    "  print(str(i+1)+\". \"+top[i][0])\n"
   ]
  },
  {
   "cell_type": "markdown",
   "metadata": {
    "id": "sXyxWJg63v2C"
   },
   "source": [
    "> choose a word in wordcloud"
   ]
  },
  {
   "cell_type": "code",
   "execution_count": null,
   "metadata": {
    "colab": {
     "base_uri": "https://localhost:8080/"
    },
    "executionInfo": {
     "elapsed": 77175,
     "status": "ok",
     "timestamp": 1610461004123,
     "user": {
      "displayName": "38weiying",
      "photoUrl": "https://lh3.googleusercontent.com/a-/AOh14GixAm0W1lZ2chajSYWF0kMWAkoNdn204mqMKrT5B3I=s64",
      "userId": "18194026143522285241"
     },
     "user_tz": -480
    },
    "id": "riztf-QN3wp-",
    "outputId": "04f7303d-fa7d-4d02-c795-5da8a42a0928"
   },
   "outputs": [
    {
     "name": "stdout",
     "output_type": "stream",
     "text": [
      "0. flavors\n",
      "1. aromas\n",
      "2. finish\n",
      "3. berry\n",
      "4. herbal\n",
      "5. but\n",
      "6. palate\n",
      "7. plum\n",
      "8. cassis\n",
      "9. while\n",
      "10. fruit\n",
      "11. red\n",
      "12. notes\n",
      "13. full\n",
      "14. cherry\n",
      "15. spicy\n",
      "16. feels\n",
      "17. tannins\n",
      "18. Cabernet\n",
      "19. raspberry\n",
      "20. bit\n",
      "21. green\n",
      "22. nose\n",
      "23. fruits\n",
      "24. baked\n",
      "choose a word in wordcloud: 24\n",
      "your choice is:  baked\n"
     ]
    }
   ],
   "source": [
    "for i in range(0,len(gr1_idf),1):\n",
    "  print(str(i)+\". \"+gr1_idf[i])\n",
    "\n",
    "word = input(\"choose a word in wordcloud: \")\n",
    "print(\"your choice is: \",gr1_idf[int(word)])"
   ]
  },
  {
   "cell_type": "markdown",
   "metadata": {
    "id": "vbqm2kYT3zDG"
   },
   "source": [
    "#### ***3. show the recommand list in wordcloud of user choose that in description***"
   ]
  },
  {
   "cell_type": "code",
   "execution_count": null,
   "metadata": {
    "colab": {
     "base_uri": "https://localhost:8080/"
    },
    "executionInfo": {
     "elapsed": 77177,
     "status": "ok",
     "timestamp": 1610461004129,
     "user": {
      "displayName": "38weiying",
      "photoUrl": "https://lh3.googleusercontent.com/a-/AOh14GixAm0W1lZ2chajSYWF0kMWAkoNdn204mqMKrT5B3I=s64",
      "userId": "18194026143522285241"
     },
     "user_tz": -480
    },
    "id": "TkaEpk4x31u7",
    "outputId": "7b8f6fd6-e75d-4d57-94b4-ba655e61b71a"
   },
   "outputs": [
    {
     "name": "stdout",
     "output_type": "stream",
     "text": [
      "Title and Description\n",
      "\n",
      "1. Title: Via Cobos 2007 Felino Cabernet Sauvignon (Mendoza)\n",
      "   Description: Chunky, broad and slightly rubbery smelling, with baked aromas, leather and other more serious scents. The palate is full-bodied and warm, but not all that complex. Flavors of baked plums, cassis and licorice are nice, and the finish brings chocolate brownie into the game. For immediate drinking.\n",
      "\n",
      "2. Title: Pulenta Estate 2008 La Flor Cabernet Sauvignon (Mendoza)\n",
      "   Description: Foxy and jumpy smelling at first, with brambly raspberry aromas. The palate feels heavy and baked, with grabby tannins in support of herbal, mildly weedy berry fruit flavors. Finishes saucy, with a hint of tomato. Not pure and focused like the La Flor Malbec.\n",
      "\n",
      "3. Title: Hollen Family Vineyards 2007 Cabernet Sauvignon (Mendoza)\n",
      "   Description: Cedar, tobacco and dried-berry aromas are mature and spicy. This shows preserving acidity and flavors of caramel, baked berries and spice. It lasts long on the finish; drink now.\n",
      "\n",
      "4. Title: Kaiken 2005 Cabernet Sauvignon (Mendoza)\n",
      "   Description: A little big and heavy, but that's the style that Kaiken has pushed since arriving on the market a few years ago. This version has baked-fruit aromas backed by lemon peel and espresso, while the palate is rich, dark and syrupy, but also oaky and tannic. Seems to want to offer more than it can deliver. The 14.5% alcohol level tells you that it's a big boy.\n",
      "\n",
      "5. Title: Hubert Weber 2007 Cellar Selection Cabernet Sauvignon (Mendoza)\n",
      "   Description: This aged Cabernet is mild, mellow and earthy on the nose, with aromas of tobacco and baked berry fruits. Acidity is pronounced on the palate; after that there's a mix of spice, cherry and cassis flavors. Loud acidity on the finish freshens things up while creating citric scour. Drink now.\n",
      "\n",
      "6. Title: Pascual Toso 2011 Reserve Barrancas Vineyards Cabernet Sauvignon (Mendoza)\n",
      "   Description: Aromas of red fruits, tomato, herbs, tobacco and cedar are stylish and not overpowering. This feels fresh and a touch earthy, with flavors of tobacco, cinnamon, cassis and baked berries. The finish is medium in length and intensity, with apparent but not overbearing oak. Drink through 2017.\n",
      "\n",
      "7. Title: Terrazas de Los Andes 2006 Reserva Cabernet Sauvignon (Mendoza)\n",
      "   Description: Slightly baked and raisiny on the nose, with char and licorice aromas backing that up. The palate is more acidic than you'd expect, with an outsized zesty bite to go with snappy, herbal plum and cherry tomato flavors. Baked and warm on the finish.\n",
      "\n",
      "8. Title: Avenue 2007 Cabernet Sauvignon (Mendoza)\n",
      "   Description: A bit herbal and brambly, with baked, earthy red fruit aromas. Modest raspberry flavors are mostly what you get off the narrow palate, and the finish follows suit as it fades out with a tight, herbal character. Rudimentary Cabernet.\n",
      "\n",
      "9. Title: Via El Cerno 2004 Limited Reserve Cabernet Sauvignon (Mendoza)\n",
      "   Description: Despite being six years old, this is still kicking. The nose is raw and stewy, but it's also ripe and rubbery, with cassis and berry aromas. The palate is thick, bulky and chunky, with heavy, chewy berry fruit flavors in front of a slightly baked finish. One-dimensional but not bad for Argentine Cab.\n",
      "\n",
      "10. Title: Luigi Bosca 2010 Cabernet Sauvignon (Maip)\n",
      "   Description: This Cab opens with mellow, woody aromas on top of cassis and berry scents. The palate is a bit choppy and drying, but there's good structure to it along with attractive flavors of moss, earth, baked berry and light herbs.\n",
      "\n"
     ]
    }
   ],
   "source": [
    "print(\"Title and Description\")\n",
    "print()\n",
    "\n",
    "j=0\n",
    "for i in range(0,len(gr_des),1):\n",
    "  if gr1_idf[int(word)] in gr_des[i]:\n",
    "    print(str(j+1)+\". Title: \"+gr_title[i])\n",
    "    print(\" \"*3+\"Description: \"+gr_des[i])\n",
    "    print()\n",
    "    j=j+1"
   ]
  }
 ],
 "metadata": {
  "colab": {
   "collapsed_sections": [],
   "name": "all_for_Final.ipynb",
   "provenance": []
  },
  "kernelspec": {
   "display_name": "Python 3 (ipykernel)",
   "language": "python",
   "name": "python3"
  },
  "language_info": {
   "codemirror_mode": {
    "name": "ipython",
    "version": 3
   },
   "file_extension": ".py",
   "mimetype": "text/x-python",
   "name": "python",
   "nbconvert_exporter": "python",
   "pygments_lexer": "ipython3",
   "version": "3.8.5"
  }
 },
 "nbformat": 4,
 "nbformat_minor": 1
}
